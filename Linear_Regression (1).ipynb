{
  "nbformat": 4,
  "nbformat_minor": 0,
  "metadata": {
    "colab": {
      "name": "Linear Regression",
      "provenance": [],
      "collapsed_sections": []
    },
    "kernelspec": {
      "name": "python3",
      "display_name": "Python 3"
    },
    "language_info": {
      "name": "python"
    }
  },
  "cells": [
    {
      "cell_type": "markdown",
      "source": [
        "# Linear Regression!\n",
        "Linear regression is commonly used for predictive analysis and modeling."
      ],
      "metadata": {
        "id": "u8_n9Bq4Ca1h"
      }
    },
    {
      "cell_type": "markdown",
      "source": [
        "###Importing all the required libraries"
      ],
      "metadata": {
        "id": "QrU6iSHuCxrw"
      }
    },
    {
      "cell_type": "code",
      "execution_count": 2,
      "metadata": {
        "id": "Q8T-6Tvf2UKc"
      },
      "outputs": [],
      "source": [
        "import numpy as np\n",
        "import pandas as pd\n",
        "from matplotlib import pyplot as plt"
      ]
    },
    {
      "cell_type": "code",
      "source": [
        "from google.colab import drive\n",
        "drive.mount('/content/drive')"
      ],
      "metadata": {
        "id": "RsDenO7K2eNc",
        "colab": {
          "base_uri": "https://localhost:8080/"
        },
        "outputId": "a8df1f11-fc46-4925-b02e-16b21f1e626a"
      },
      "execution_count": 3,
      "outputs": [
        {
          "output_type": "stream",
          "name": "stdout",
          "text": [
            "Mounted at /content/drive\n"
          ]
        }
      ]
    },
    {
      "cell_type": "markdown",
      "source": [
        "Uploading the Training Dataset "
      ],
      "metadata": {
        "id": "-VYZ09kFC8rM"
      }
    },
    {
      "cell_type": "code",
      "source": [
        "data = pd.read_csv('/content/drive/MyDrive/Dataset/Linear_train.csv')"
      ],
      "metadata": {
        "id": "aT9wnR_t2haa"
      },
      "execution_count": 4,
      "outputs": []
    },
    {
      "cell_type": "markdown",
      "source": [
        "Creating a class for Multivariate Linear Regression with the model and the predicting functions"
      ],
      "metadata": {
        "id": "bABi23zqDGCl"
      }
    },
    {
      "cell_type": "code",
      "source": [
        "class Multiple_Linear_Regression():   \n",
        "    def __init__ (self):\n",
        "        theta=np.zeros(int(np.random.random()),float)[:,np.newaxis]; \n",
        "        \n",
        "    def fit(self, X_train, y_train):\n",
        "        X_b = np.c_[np.ones(len(X_train)), X_train] \n",
        "        theta_bst = np.linalg.pinv(X_b.T.dot(X_b)).dot(X_b.T).dot(y_train)\n",
        "        self.theta = theta_bst\n",
        "        \n",
        "    def predict(self, X_test):\n",
        "        X_test = np.c_[np.ones((len(X_test), 1)), X_test]\n",
        "        y_predict = np.dot(X_test, self.theta)\n",
        "        \n",
        "        return y_predict"
      ],
      "metadata": {
        "id": "AyG4Ly0P2kFW"
      },
      "execution_count": 5,
      "outputs": []
    },
    {
      "cell_type": "markdown",
      "source": [
        "### As we have the datasets for training and testing seperately we are not splitting the dataset into two"
      ],
      "metadata": {
        "id": "KqWGkgoyDST0"
      }
    },
    {
      "cell_type": "markdown",
      "source": [
        "Training Variables"
      ],
      "metadata": {
        "id": "MefKDwDQDgWR"
      }
    },
    {
      "cell_type": "code",
      "source": [
        "X_train = data.iloc[:, 1:22]\n",
        "y_train = data.iloc[:, 21:22]"
      ],
      "metadata": {
        "id": "S-EvEy5B3eD-"
      },
      "execution_count": 6,
      "outputs": []
    },
    {
      "cell_type": "markdown",
      "source": [
        "uploading Testing Dataset"
      ],
      "metadata": {
        "id": "zkzoayc9Dkh3"
      }
    },
    {
      "cell_type": "code",
      "source": [
        "data_test = pd.read_csv('/content/drive/MyDrive/Dataset/Linear_test.csv')"
      ],
      "metadata": {
        "id": "TZs4rmON5Bga"
      },
      "execution_count": 7,
      "outputs": []
    },
    {
      "cell_type": "markdown",
      "source": [
        "Testing Variables"
      ],
      "metadata": {
        "id": "FmKA7ipdDzmG"
      }
    },
    {
      "cell_type": "code",
      "source": [
        "X_test = data_test.iloc[:,1:22]\n",
        "y_test = data_test.iloc[:,21:22]"
      ],
      "metadata": {
        "id": "4CVtS-7J5JxM"
      },
      "execution_count": 8,
      "outputs": []
    },
    {
      "cell_type": "markdown",
      "source": [
        "### Training the Model with the training Dataset"
      ],
      "metadata": {
        "id": "hCVlDr-gD2XY"
      }
    },
    {
      "cell_type": "code",
      "source": [
        "model = Multiple_Linear_Regression()"
      ],
      "metadata": {
        "id": "RcKpDHKYujhv"
      },
      "execution_count": 9,
      "outputs": []
    },
    {
      "cell_type": "code",
      "source": [
        "model.fit(X_train, y_train)"
      ],
      "metadata": {
        "id": "QBhyNjUVvTm1"
      },
      "execution_count": 10,
      "outputs": []
    },
    {
      "cell_type": "code",
      "source": [
        "y_preds = model.predict(X_test)"
      ],
      "metadata": {
        "id": "3S3iJEfx3v20"
      },
      "execution_count": 11,
      "outputs": []
    },
    {
      "cell_type": "markdown",
      "source": [
        "### Functions for calculating mean square error and root mean square error"
      ],
      "metadata": {
        "id": "nvFGSXdeEDIH"
      }
    },
    {
      "cell_type": "code",
      "source": [
        "def mse(y_preds, y):\n",
        "    mse = ((y - y_preds)**2).mean()\n",
        "    return mse\n",
        "\n",
        "def rmse(y_preds, y):\n",
        "    rmse = (((y - y_preds)**2).mean())**(1/2)\n",
        "    return rmse"
      ],
      "metadata": {
        "id": "G0KxDO5x5ZkT"
      },
      "execution_count": 12,
      "outputs": []
    },
    {
      "cell_type": "code",
      "source": [
        "mse(y_preds, y_test)\n",
        "rmse(y_preds, y_test)"
      ],
      "metadata": {
        "id": "8a15eF-u5eEj",
        "colab": {
          "base_uri": "https://localhost:8080/"
        },
        "outputId": "9a12346e-261c-4a55-ae48-5e853b58fdd2"
      },
      "execution_count": 13,
      "outputs": [
        {
          "output_type": "execute_result",
          "data": {
            "text/plain": [
              "(label    7.823675e-16\n",
              " dtype: float64, label    2.797083e-08\n",
              " dtype: float64)"
            ]
          },
          "metadata": {},
          "execution_count": 13
        }
      ]
    },
    {
      "cell_type": "markdown",
      "source": [
        "### Scattering the points with predicted values on the Y-axis and the real Test Values in the X-axis"
      ],
      "metadata": {
        "id": "wbPM5jNwEOwS"
      }
    },
    {
      "cell_type": "code",
      "source": [
        "fig, ax = plt.subplots()\n",
        "\n",
        "ax.scatter(y_test, y_preds)\n",
        "ax.set_xlabel('True Values')\n",
        "ax.set_ylabel('Fitted Values')\n",
        "ax.set_title('True Value vs. Fitted Values');"
      ],
      "metadata": {
        "id": "JnuYZ9gJ6R7C",
        "colab": {
          "base_uri": "https://localhost:8080/",
          "height": 295
        },
        "outputId": "7b499265-e552-4df6-de1e-8f9ea4190ca8"
      },
      "execution_count": 14,
      "outputs": [
        {
          "output_type": "display_data",
          "data": {
            "text/plain": [
              "<Figure size 432x288 with 1 Axes>"
            ],
            "image/png": "[encoded data removed]"
          },
          "metadata": {
            "needs_background": "light"
          }
        }
      ]
    }
  ]
}