{
  "nbformat": 4,
  "nbformat_minor": 0,
  "metadata": {
    "colab": {
      "name": "K-Nearest Neighbours",
      "provenance": []
    },
    "kernelspec": {
      "name": "python3",
      "display_name": "Python 3"
    },
    "language_info": {
      "name": "python"
    }
  },
  "cells": [
    {
      "cell_type": "markdown",
      "source": [
        "# K-Nearest Neighbours (KNN)"
      ],
      "metadata": {
        "id": "Z4novYdtiEWn"
      }
    },
    {
      "cell_type": "markdown",
      "source": [
        "### Importing the necessaary Libraries and Datasets"
      ],
      "metadata": {
        "id": "YxKTBPDgiQe0"
      }
    },
    {
      "cell_type": "code",
      "execution_count": 2,
      "metadata": {
        "id": "LSCHP24bBBS3"
      },
      "outputs": [],
      "source": [
        "import pandas as pd\n",
        "import matplotlib.pyplot as plt\n",
        "import numpy as np"
      ]
    },
    {
      "cell_type": "code",
      "source": [
        "ds = pd.read_csv('/content/drive/MyDrive/Dataset/emnist-letters-train.csv', header = None)\n",
        "df = pd.read_csv('/content/drive/MyDrive/Dataset/emnist-letters-test.csv', header = None)"
      ],
      "metadata": {
        "id": "uWbukqUhBJxG"
      },
      "execution_count": 3,
      "outputs": []
    },
    {
      "cell_type": "markdown",
      "source": [
        "Creating Training and Testing Variables"
      ],
      "metadata": {
        "id": "xNMR8rS9ihuC"
      }
    },
    {
      "cell_type": "code",
      "source": [
        "X_train = ds.iloc[:,1:784]\n",
        "X_test = df.iloc[:,1:784]\n",
        "Y_train = ds.iloc[:,0:1]\n",
        "Y_test = df.iloc[:,0:1]"
      ],
      "metadata": {
        "id": "VPfURq464v_a"
      },
      "execution_count": 4,
      "outputs": []
    },
    {
      "cell_type": "code",
      "source": [
        "X_train = np.array(X_train)\n",
        "X_test = np.array(X_test)\n",
        "Y_train = np.array(Y_train)\n",
        "Y_test = np.array(Y_test)"
      ],
      "metadata": {
        "id": "y50h4AsiY-pr"
      },
      "execution_count": 5,
      "outputs": []
    },
    {
      "cell_type": "markdown",
      "source": [
        "### Accessory Function "
      ],
      "metadata": {
        "id": "c7g1vcJjizBR"
      }
    },
    {
      "cell_type": "code",
      "source": [
        "# Defining a function to find mode from a list \n",
        "def mode (ls):\n",
        "  max_count = (0 ,0 )\n",
        "  for num in ls:\n",
        "    occurance = ls.count(num)\n",
        "    if occurance > max_count[0]:\n",
        "      max_count = (occurance, num)\n",
        "\n",
        "  return max_count[1]"
      ],
      "metadata": {
        "id": "MkgHkbGF4v80"
      },
      "execution_count": 6,
      "outputs": []
    },
    {
      "cell_type": "markdown",
      "source": [
        "### Main KNN Function defining"
      ],
      "metadata": {
        "id": "JH4VC5TLjapW"
      }
    },
    {
      "cell_type": "code",
      "source": [
        "# Defining the main knn function  \n",
        "# here x1 and x2 are the train data and x2 is one row of the test dataset \n",
        "def knn(x1, y1, x2, y2, k):\n",
        "\n",
        "  ls = []\n",
        "  \n",
        "  for i in range (x1.shape[0]):\n",
        "    ls.append(np.sum((x2 - x1[i])**2))\n",
        "\n",
        "  ls = np.array (ls)\n",
        "\n",
        "  final = np.argsort(ls)[:k]\n",
        "\n",
        "  for i in range(final.shape[0]) : \n",
        "    final[i] = y1[final[i]]\n",
        "\n",
        "  a =[]\n",
        "  for i in range(final.shape[0]):\n",
        "    a.append( final[i])\n",
        "  \n",
        "  return mode(a)"
      ],
      "metadata": {
        "id": "-ErGC25k4v6f"
      },
      "execution_count": 7,
      "outputs": []
    },
    {
      "cell_type": "markdown",
      "source": [
        "### Calculating Accuracy....."
      ],
      "metadata": {
        "id": "PfYuxF2Hjg-M"
      }
    },
    {
      "cell_type": "code",
      "source": [
        "# calculating the accuracy for k = 7\n",
        "acc = 0 \n",
        "for i in range (1,14799):\n",
        "  if Y_test[i] == knn(X_train , Y_train , X_test[i] , Y_test , 7 ):\n",
        "    acc += 1 \n",
        "    print (acc/i)\n",
        "print (acc/i)"
      ],
      "metadata": {
        "id": "8tXF4iN94v2l"
      },
      "execution_count": null,
      "outputs": []
    }
  ]
}