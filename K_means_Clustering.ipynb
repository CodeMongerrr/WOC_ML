{
  "nbformat": 4,
  "nbformat_minor": 0,
  "metadata": {
    "colab": {
      "name": "K-means Clustering",
      "provenance": []
    },
    "kernelspec": {
      "name": "python3",
      "display_name": "Python 3"
    },
    "language_info": {
      "name": "python"
    }
  },
  "cells": [
    {
      "cell_type": "markdown",
      "source": [
        "# K - Means Clustering "
      ],
      "metadata": {
        "id": "ZqNAzBUOirwL"
      }
    },
    {
      "cell_type": "markdown",
      "source": [
        "### Importing the necessary Libraries"
      ],
      "metadata": {
        "id": "fsEXMeufizYj"
      }
    },
    {
      "cell_type": "code",
      "source": [
        "import numpy as np\n",
        "import pandas as pd\n",
        "from matplotlib import pyplot as plt"
      ],
      "metadata": {
        "id": "ckwmFe4ISjzC"
      },
      "execution_count": 1,
      "outputs": []
    },
    {
      "cell_type": "code",
      "source": [
        "from google.colab import drive\n",
        "drive.mount('/content/drive')"
      ],
      "metadata": {
        "colab": {
          "base_uri": "https://localhost:8080/"
        },
        "id": "MC2vUf2ugNNO",
        "outputId": "66243c71-f3ff-4eb3-84d8-6699334e44dc"
      },
      "execution_count": 2,
      "outputs": [
        {
          "output_type": "stream",
          "name": "stdout",
          "text": [
            "Drive already mounted at /content/drive; to attempt to forcibly remount, call drive.mount(\"/content/drive\", force_remount=True).\n"
          ]
        }
      ]
    },
    {
      "cell_type": "code",
      "source": [
        "data = pd.read_csv('/content/drive/MyDrive/Dataset/emnist-letters-train.csv', header = None)"
      ],
      "metadata": {
        "id": "DC670KJOgEw3"
      },
      "execution_count": 3,
      "outputs": []
    },
    {
      "cell_type": "code",
      "source": [
        "X = data.iloc[:, 1:785]\n",
        "y = data.iloc[:, 0:1]"
      ],
      "metadata": {
        "id": "_8kczXqBgPM6"
      },
      "execution_count": 4,
      "outputs": []
    },
    {
      "cell_type": "markdown",
      "source": [
        "### Defining a class for K_Means with the functions for calculating dstance b/w 2 points and predict and train functions"
      ],
      "metadata": {
        "id": "sb9vkn72i5Z9"
      }
    },
    {
      "cell_type": "code",
      "execution_count": 7,
      "metadata": {
        "id": "Z8YRPci8SiLQ"
      },
      "outputs": [],
      "source": [
        "class K_Means:\n",
        "    def __init__(self, k=2, tolerance = 0.001, max_iter = 500):\n",
        "        self.k = k\n",
        "        self.max_iterations = max_iter\n",
        "        self.tolerance = tolerance\n",
        "    \n",
        "    def euclidean_distance(self, point1, point2):\n",
        "        #return math.sqrt((point1[0]-point2[0])**2 + (point1[1]-point2[1])**2 + (point1[2]-point2[2])**2)   \n",
        "        #sqrt((x1-x2)^2 + (y1-y2)^2)\n",
        "        return np.linalg.norm(point1-point2, axis=0)\n",
        "        \n",
        "    def predict(self,data):\n",
        "        distances = [np.linalg.norm(data-self.centroids[centroid]) for centroid in self.centroids]\n",
        "        classification = distances.index(min(distances))\n",
        "        return classification\n",
        "    \n",
        "    def fit(self, data):\n",
        "        self.centroids = {}\n",
        "        for i in range(self.k):\n",
        "            self.centroids[i] = data[i]\n",
        "        \n",
        "        \n",
        "        for i in range(self.max_iterations):\n",
        "            self.classes = {}\n",
        "            for j in range(self.k):\n",
        "              \n",
        "                self.classes[j] = []\n",
        "                \n",
        "            for point in data:\n",
        "                distances = []\n",
        "                for index in self.centroids:\n",
        "                    distances.append(self.euclidean_distance(point,self.centroids[index]))\n",
        "                cluster_index = distances.index(min(distances))\n",
        "                self.classes[cluster_index].append(point)\n",
        "            \n",
        "            previous = dict(self.centroids)\n",
        "\n",
        "\n",
        "            for cluster_index in self.classes:\n",
        "                self.centroids[cluster_index] = np.average(self.classes[cluster_index], axis = 0)\n",
        "            \n",
        "\n",
        "                \n",
        "            isOptimal = True\n",
        "            \n",
        "            for centroid in self.centroids:\n",
        "                original_centroid = previous[centroid]\n",
        "                curr = self.centroids[centroid]\n",
        "                if np.sum((curr - original_centroid)/original_centroid * 100.0) > self.tolerance:\n",
        "                    isOptimal = False\n",
        "            if isOptimal:\n",
        "                break\n",
        "\n",
        "\n"
      ]
    },
    {
      "cell_type": "markdown",
      "source": [
        "### Main function for calling the class functions."
      ],
      "metadata": {
        "id": "dtCwJuqljLfD"
      }
    },
    {
      "cell_type": "code",
      "source": [
        "                \n",
        "def main():\n",
        "    K=3\n",
        "    center_1 = np.array([1,1])\n",
        "    center_2 = np.array([5,5])\n",
        "    center_3 = np.array([8,1])\n",
        "\n",
        "    # Generating random data and center it to the three centers\n",
        "    cluster_1 = np.random.randn(100, 2) + center_1\n",
        "    cluster_2 = np.random.randn(100,2) + center_2\n",
        "    cluster_3 = np.random.randn(100,2) + center_3\n",
        "\n",
        "    data = np.concatenate((cluster_1, cluster_2, cluster_3), axis = 0)\n",
        "    \n",
        "    k_means = K_Means(K)\n",
        "    k_means.fit(data)\n",
        "    \n",
        "    \n",
        "    # Plot\n",
        "    colors = 10*[\"r\", \"g\", \"c\", \"b\", \"k\"]\n",
        "\n",
        "    for centroid in k_means.centroids:\n",
        "        plt.scatter(k_means.centroids[centroid][0], k_means.centroids[centroid][1], s = 130, marker = \"x\")\n",
        "\n",
        "    for cluster_index in k_means.classes:\n",
        "        color = colors[cluster_index]\n",
        "        for features in k_means.classes[cluster_index]:\n",
        "            plt.scatter(features[0], features[1], color = color,s = 30)\n",
        "    \n",
        "if __name__ == \"__main__\":\n",
        "    main()\n",
        "          "
      ],
      "metadata": {
        "id": "QLuvr9X0nvW8"
      },
      "execution_count": null,
      "outputs": []
    },
    {
      "cell_type": "code",
      "source": [
        "main()"
      ],
      "metadata": {
        "id": "2LczTDgUhXoH"
      },
      "execution_count": null,
      "outputs": []
    },
    {
      "cell_type": "code",
      "source": [
        ""
      ],
      "metadata": {
        "id": "n4DjlasRiUDv"
      },
      "execution_count": null,
      "outputs": []
    }
  ]
}