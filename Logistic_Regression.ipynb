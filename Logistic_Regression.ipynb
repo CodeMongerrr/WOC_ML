{
  "nbformat": 4,
  "nbformat_minor": 0,
  "metadata": {
    "colab": {
      "name": "Logistic Regression",
      "provenance": [],
      "collapsed_sections": []
    },
    "kernelspec": {
      "name": "python3",
      "display_name": "Python 3"
    },
    "language_info": {
      "name": "python"
    }
  },
  "cells": [
    {
      "cell_type": "markdown",
      "source": [
        "Logistic Regression"
      ],
      "metadata": {
        "id": "FydQfGQV7T4R"
      }
    },
    {
      "cell_type": "markdown",
      "source": [
        "### Importing the necessary libraries"
      ],
      "metadata": {
        "id": "v-mHzTT77ZEI"
      }
    },
    {
      "cell_type": "code",
      "execution_count": 26,
      "metadata": {
        "id": "Sm-eLQnbSyoN"
      },
      "outputs": [],
      "source": [
        "import numpy as np\n",
        "import pandas as pd\n",
        "from matplotlib import pyplot as plt"
      ]
    },
    {
      "cell_type": "code",
      "source": [
        "from google.colab import drive\n",
        "drive.mount('/content/drive')"
      ],
      "metadata": {
        "id": "L2yKBG0CrDz8",
        "colab": {
          "base_uri": "https://localhost:8080/"
        },
        "outputId": "4a18445e-5989-4f9a-e5cf-ac2b921b1624"
      },
      "execution_count": 29,
      "outputs": [
        {
          "output_type": "stream",
          "name": "stdout",
          "text": [
            "Drive already mounted at /content/drive; to attempt to forcibly remount, call drive.mount(\"/content/drive\", force_remount=True).\n"
          ]
        }
      ]
    },
    {
      "cell_type": "markdown",
      "source": [
        "### Uploading the Dataset"
      ],
      "metadata": {
        "id": "LCE1XFDA7hZi"
      }
    },
    {
      "cell_type": "code",
      "source": [
        "data = pd.read_csv('/content/drive/MyDrive/Dataset/emnist-letters-train.csv', header = None)"
      ],
      "metadata": {
        "id": "gerv6mmW1KMj"
      },
      "execution_count": 30,
      "outputs": []
    },
    {
      "cell_type": "markdown",
      "source": [
        "### Defining the hyperparameters and Training Variables for the Training Dataset "
      ],
      "metadata": {
        "id": "PsQtTarf71FD"
      }
    },
    {
      "cell_type": "code",
      "source": [
        "itterations = 10   #random big value \n",
        "alpha = 0.01 \n",
        "m = 10000\n",
        "cost_values = []\n",
        "trained_parameters = []\n",
        "X = data.iloc[0:10000,:785]\n",
        "X = X.T\n",
        "y = data.iloc[0:10000,0:1]\n",
        "y = np.array(y)\n",
        "#X = (X - X.mean())/ X.std()\n",
        "#y = (y - y.mean()) / y.std()\n",
        "print(y)"
      ],
      "metadata": {
        "id": "A4yVjnJN0P9X"
      },
      "execution_count": null,
      "outputs": []
    },
    {
      "cell_type": "markdown",
      "source": [
        "### Training the Model "
      ],
      "metadata": {
        "id": "wMT4P3Vf7-2P"
      }
    },
    {
      "cell_type": "code",
      "source": [
        "weights = np.random.randn(1,785)\n",
        "bias = 0 \n",
        "costfunc_values = []\n",
        "k = 0\n",
        "for i in range(1,itterations+1):\n",
        "  #logistic function\n",
        "  z = np.dot(weights,X) + bias \n",
        "  hypothesis = 1/(1 + np.exp(-z)) \n",
        "  #cost function\n",
        "  j = 1/m*(-1*(np.sum(y*np.log(hypothesis) + (1-y)*np.log(1-hypothesis))))\n",
        "  costfunc_values.append(j)\n",
        "  k+=1\n",
        "  #gradient decent\n",
        "  dw =  1/m * np.dot(hypothesis-y,X.T)\n",
        "  db =  1/m * np.sum(hypothesis-y)\n",
        "  weights = weights - alpha*dw\n",
        "  bias = bias - alpha*db\n",
        "  #stop training\n",
        "  if i%200 == 0:\n",
        "    print('running @ ',j)\n",
        "  if i%2 == 0:\n",
        "    if abs(j-costfunc_values[-2])<0.000001:\n",
        "      if abs(j-costfunc_values[-3])<0.000001:\n",
        "        break \n",
        "cost_values.append(costfunc_values)  \n",
        "trained_parameters.append([weights,bias])      \n",
        "print('itteration number:',k)\n",
        "weights.reshape(10000,785)"
      ],
      "metadata": {
        "id": "2op0X5P8bSFx"
      },
      "execution_count": null,
      "outputs": []
    },
    {
      "cell_type": "markdown",
      "source": [
        "### appending the hypothesis in a list for convenience"
      ],
      "metadata": {
        "id": "oJ5qkS8d8CRy"
      }
    },
    {
      "cell_type": "code",
      "source": [
        "ls = []\n",
        "for i in range(2000):\n",
        "  ls.append(hypothesis[i])"
      ],
      "metadata": {
        "id": "SlG8zLWVFLq_"
      },
      "execution_count": 37,
      "outputs": []
    },
    {
      "cell_type": "markdown",
      "source": [
        "### Testing the Testing Dataset and calculating the accuracy"
      ],
      "metadata": {
        "id": "MX2C0Y7j8UVR"
      }
    },
    {
      "cell_type": "code",
      "source": [
        "test_data = pd.read_csv('/content/drive/MyDrive/Dataset/emnist-letters-test.csv', header = None)\n",
        "X_test = test_data.iloc[:2000,:785]\n",
        "Y_test = test_data.iloc[:2000,0:1]\n",
        "weights = trained_parameters[0][0]\n",
        "bias = trained_parameters[0][1]\n",
        "correct_predictions = 0 \n",
        "for i in range(2000):\n",
        "  z = np.dot(weights,X_test.iloc[i,:])+bias\n",
        "  #weights = weights[0]\n",
        "  #print(X.T)\n",
        "  #print(z[0])\n",
        "  hypothesis = 1/(1 + np.exp(-z))\n",
        "  #hypothesis = hypothesis[0]\n",
        "  #print(hypothesis)\n",
        "  if ls[i]>= 0.5:\n",
        "    if Y_test[0][i] == 1:\n",
        "      correct_predictions+=1\n",
        "  if ls[i] < 0.5:\n",
        "    if Y_test[0][i] == 0:\n",
        "      correct_predictions+=1   \n",
        "print(correct_predictions)\n",
        "acc = (correct_predictions/2000)*100\n",
        "print('accuracy for dataset '+str(data),\" = \",acc)"
      ],
      "metadata": {
        "id": "Mw_iTeprAKXM"
      },
      "execution_count": null,
      "outputs": []
    }
  ]
}