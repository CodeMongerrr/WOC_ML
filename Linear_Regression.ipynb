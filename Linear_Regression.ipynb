{
  "nbformat": 4,
  "nbformat_minor": 0,
  "metadata": {
    "colab": {
      "name": "Linear Regression",
      "provenance": [],
      "collapsed_sections": []
    },
    "kernelspec": {
      "name": "python3",
      "display_name": "Python 3"
    },
    "language_info": {
      "name": "python"
    }
  },
  "cells": [
    {
      "cell_type": "code",
      "execution_count": 28,
      "metadata": {
        "id": "Q8T-6Tvf2UKc"
      },
      "outputs": [],
      "source": [
        "import numpy as np\n",
        "import pandas as pd\n",
        "from matplotlib import pyplot as plt"
      ]
    },
    {
      "cell_type": "code",
      "source": [
        "from google.colab import drive\n",
        "drive.mount('/content/drive')"
      ],
      "metadata": {
        "id": "RsDenO7K2eNc",
        "colab": {
          "base_uri": "https://localhost:8080/"
        },
        "outputId": "61997f52-fc0f-4ca7-cef8-9931dd4fbcda"
      },
      "execution_count": 1,
      "outputs": [
        {
          "output_type": "stream",
          "name": "stdout",
          "text": [
            "Mounted at /content/drive\n"
          ]
        }
      ]
    },
    {
      "cell_type": "code",
      "source": [
        "data = pd.read_csv('/content/drive/MyDrive/Dataset/Linear_train.csv')"
      ],
      "metadata": {
        "id": "aT9wnR_t2haa"
      },
      "execution_count": 3,
      "outputs": []
    },
    {
      "cell_type": "code",
      "source": [
        "class Multiple_Linear_Regression():   \n",
        "    def __init__ (self):\n",
        "        theta=np.zeros(int(np.random.random()),float)[:,np.newaxis]; \n",
        "        \n",
        "    def fit(self, X_train, y_train):\n",
        "        X_b = np.c_[np.ones(len(X_train)), X_train] \n",
        "        theta_bst = np.linalg.pinv(X_b.T.dot(X_b)).dot(X_b.T).dot(y_train)\n",
        "        self.theta = theta_bst\n",
        "        \n",
        "    def predict(self, X_test):\n",
        "        X_test = np.c_[np.ones((len(X_test), 1)), X_test]\n",
        "        y_predict = np.dot(X_test, self.theta)\n",
        "        \n",
        "        return y_predict"
      ],
      "metadata": {
        "id": "AyG4Ly0P2kFW"
      },
      "execution_count": 4,
      "outputs": []
    },
    {
      "cell_type": "code",
      "source": [
        "X_train = data.iloc[:, 1:22]\n",
        "y_train = data.iloc[:, 21:22]"
      ],
      "metadata": {
        "id": "S-EvEy5B3eD-"
      },
      "execution_count": 16,
      "outputs": []
    },
    {
      "cell_type": "code",
      "source": [
        "data_test = pd.read_csv('/content/drive/MyDrive/Dataset/Linear_test.csv')"
      ],
      "metadata": {
        "id": "TZs4rmON5Bga"
      },
      "execution_count": 5,
      "outputs": []
    },
    {
      "cell_type": "code",
      "source": [
        "X_test = data_test.iloc[:,1:22]\n",
        "y_test = data_test.iloc[:,21:22]"
      ],
      "metadata": {
        "id": "4CVtS-7J5JxM"
      },
      "execution_count": 6,
      "outputs": []
    },
    {
      "cell_type": "code",
      "source": [
        "model = Multiple_Linear_Regression()"
      ],
      "metadata": {
        "id": "RcKpDHKYujhv"
      },
      "execution_count": 12,
      "outputs": []
    },
    {
      "cell_type": "code",
      "source": [
        "model.fit(X_train, y_train)"
      ],
      "metadata": {
        "id": "QBhyNjUVvTm1"
      },
      "execution_count": 17,
      "outputs": []
    },
    {
      "cell_type": "code",
      "source": [
        "y_preds = model.predict(X_test)"
      ],
      "metadata": {
        "id": "3S3iJEfx3v20"
      },
      "execution_count": 18,
      "outputs": []
    },
    {
      "cell_type": "code",
      "source": [
        "y_preds"
      ],
      "metadata": {
        "id": "K-6c0-bN6CK_"
      },
      "execution_count": null,
      "outputs": []
    },
    {
      "cell_type": "code",
      "source": [
        "def mse(y_preds, y):\n",
        "    mse = ((y - y_preds)**2).mean()\n",
        "    return mse\n",
        "\n",
        "def rmse(y_preds, y):\n",
        "    rmse = (((y - y_preds)**2).mean())**(1/2)\n",
        "    return rmse"
      ],
      "metadata": {
        "id": "G0KxDO5x5ZkT"
      },
      "execution_count": 19,
      "outputs": []
    },
    {
      "cell_type": "code",
      "source": [
        "mse(y_preds, y_test), rmse(y_preds, y_test)"
      ],
      "metadata": {
        "id": "8a15eF-u5eEj"
      },
      "execution_count": null,
      "outputs": []
    },
    {
      "cell_type": "code",
      "source": [
        "fig, ax = plt.subplots()\n",
        "\n",
        "ax.scatter(y_test, y_preds)\n",
        "ax.set_xlabel('True Values')\n",
        "ax.set_ylabel('Fitted Values')\n",
        "ax.set_title('True Value vs. Fitted Values');"
      ],
      "metadata": {
        "id": "JnuYZ9gJ6R7C"
      },
      "execution_count": null,
      "outputs": []
    },
    {
      "cell_type": "code",
      "source": [
        "np.sum((y_preds - y_test)**2)/10000"
      ],
      "metadata": {
        "id": "YoU4JFAv7ySv"
      },
      "execution_count": null,
      "outputs": []
    },
    {
      "cell_type": "code",
      "source": [
        "y_preds"
      ],
      "metadata": {
        "id": "xy1usVfG8adm"
      },
      "execution_count": null,
      "outputs": []
    },
    {
      "cell_type": "code",
      "source": [
        "correct = 0\n",
        "for i in range(len(y_test)):\n",
        "  if y_preds[0][i] == y_test[i]:\n",
        "    correct += 1\n",
        "acc = correct/len(y_test)*100\n",
        "print(acc)"
      ],
      "metadata": {
        "id": "MY0H1mOF66i5"
      },
      "execution_count": null,
      "outputs": []
    }
  ]
}